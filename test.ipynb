{
 "cells": [
  {
   "cell_type": "code",
   "execution_count": 1,
   "metadata": {},
   "outputs": [],
   "source": [
    "import selenium\n",
    "from selenium import webdriver\n",
    "from webdriver_manager.chrome import ChromeDriverManager\n",
    "from selenium.webdriver.common.by import By\n",
    "from selenium import webdriver\n",
    "from selenium.webdriver.support.ui import WebDriverWait\n",
    "from selenium.webdriver.support import expected_conditions as EC\n",
    "from selenium.webdriver.common.by import By\n",
    "from selenium.common.exceptions import WebDriverException, NoSuchElementException\n",
    "from tqdm import tqdm"
   ]
  },
  {
   "cell_type": "code",
   "execution_count": 6,
   "metadata": {},
   "outputs": [
    {
     "name": "stdout",
     "output_type": "stream",
     "text": [
      "\n"
     ]
    },
    {
     "name": "stderr",
     "output_type": "stream",
     "text": [
      "[WDM] - ====== WebDriver manager ======\n",
      "[WDM] - Current google-chrome version is 103.0.5060\n",
      "[WDM] - Get LATEST chromedriver version for 103.0.5060 google-chrome\n",
      "[WDM] - Driver [/Users/pearl/.wdm/drivers/chromedriver/mac64_m1/103.0.5060.53/chromedriver] found in cache\n",
      "/var/folders/k4/lsf7875j0pd9cxljb33jtqb40000gn/T/ipykernel_18504/4145042208.py:5: DeprecationWarning: executable_path has been deprecated, please pass in a Service object\n",
      "  self.driver = webdriver.Chrome(ChromeDriverManager().install())\n"
     ]
    },
    {
     "name": "stdout",
     "output_type": "stream",
     "text": [
      "{'name': ['Tim Roth'], 'link': ['https://www.imdb.com/name/nm0000619/?ref_=ttfc_fc_cl_t1'], 'movies': [{'title': ['Last King of the Cross'], 'year': [' 2022']}, {'title': [], 'year': []}, {'title': [], 'year': []}, {'title': [], 'year': []}, {'title': [], 'year': []}, {'title': [], 'year': []}, {'title': [], 'year': []}, {'title': [], 'year': []}, {'title': ['Panzi'], 'year': [' ']}, {'title': ['Poison'], 'year': [' ']}, {'title': ['Punch'], 'year': [' ']}, {'title': ['She-Hulk: Attorney at Law'], 'year': [' 2022']}, {'title': [], 'year': []}, {'title': [], 'year': []}, {'title': [], 'year': []}, {'title': [], 'year': []}, {'title': [], 'year': []}, {'title': [], 'year': []}, {'title': [], 'year': []}, {'title': ['There Are No Saints'], 'year': [' 2022']}, {'title': ['Resurrection'], 'year': [' 2022']}, {'title': ['Sundown'], 'year': [' 2021']}, {'title': ['Shang-Chi and the Legend of the Ten Rings'], 'year': [' 2021']}, {'title': ['Bergman Island'], 'year': [' 2021']}, {'title': ['The Misfits'], 'year': [' 2021']}, {'title': ['Tin Star'], 'year': [' 2017-2020']}, {'title': [], 'year': []}, {'title': [], 'year': []}, {'title': [], 'year': []}, {'title': [], 'year': []}, {'title': [], 'year': []}, {'title': [], 'year': []}, {'title': [], 'year': []}, {'title': ['The Song of Names'], 'year': [' 2019']}, {'title': ['Once Upon a Time... In Hollywood'], 'year': [' 2019']}, {'title': ['Luce'], 'year': [' 2019/I']}, {'title': ['The Padre'], 'year': [' 2018']}, {'title': ['The Con is On'], 'year': [' 2018']}, {'title': ['Twin Peaks'], 'year': [' 2017']}, {'title': [], 'year': []}, {'title': [], 'year': []}, {'title': [], 'year': []}, {'title': [], 'year': []}, {'title': [], 'year': []}, {'title': ['1 Mile to You'], 'year': [' 2017']}, {'title': ['Rillington Place'], 'year': [' 2016']}, {'title': [], 'year': []}, {'title': [], 'year': []}, {'title': [], 'year': []}, {'title': ['Reg'], 'year': [' 2016']}, {'title': ['The Hateful Eight'], 'year': [' 2015']}, {'title': ['Mr. Right'], 'year': [' 2015/I']}, {'title': ['Hardcore Henry'], 'year': [' 2015']}, {'title': ['Chronic'], 'year': [' 2015']}, {'title': ['600 Miles'], 'year': [' 2015']}, {'title': ['Selma'], 'year': [' 2014']}, {'title': ['October Gale'], 'year': [' 2014']}, {'title': ['Robot Chicken'], 'year': [' 2014']}, {'title': [], 'year': []}, {'title': ['United Passions'], 'year': [' 2014']}, {'title': ['Grace of Monaco'], 'year': [' 2014']}, {'title': ['Klondike'], 'year': [' 2014']}, {'title': [], 'year': []}, {'title': [], 'year': []}, {'title': [], 'year': []}, {'title': [], 'year': []}, {'title': [], 'year': []}, {'title': [], 'year': []}, {'title': [], 'year': []}, {'title': ['Möbius'], 'year': [' 2013']}, {'title': ['The Liability'], 'year': [' 2012']}, {'title': ['Broken'], 'year': [' 2012/IV']}, {'title': ['Arbitrage'], 'year': [' 2012']}, {'title': ['Lie to Me'], 'year': [' 2009-2011']}, {'title': [], 'year': []}, {'title': [], 'year': []}, {'title': [], 'year': []}, {'title': [], 'year': []}, {'title': [], 'year': []}, {'title': [], 'year': []}, {'title': [], 'year': []}, {'title': ['Brostitute'], 'year': [' 2010']}, {'title': ['Pete Smalls Is Dead'], 'year': [' 2010']}, {'title': ['King Conqueror'], 'year': [' 2009']}, {'title': ['Sea Wolf'], 'year': [' 2009']}, {'title': [], 'year': []}, {'title': [], 'year': []}, {'title': ['Skellig: The Owl Man'], 'year': [' 2009']}, {'title': ['The Incredible Hulk'], 'year': [' 2008']}, {'title': ['The Incredible Hulk'], 'year': [' 2008']}, {'title': ['Funny Games'], 'year': [' 2007']}, {'title': ['Youth Without Youth'], 'year': [' 2007']}, {'title': ['Tsunami: The Aftermath'], 'year': [' 2006']}, {'title': [], 'year': []}, {'title': [], 'year': []}, {'title': ['Even Money'], 'year': [' 2006/I']}, {'title': ['Dark Water'], 'year': [' 2005']}, {'title': [\"Don't Come Knocking\"], 'year': [' 2005']}, {'title': ['The Last Sign'], 'year': [' 2005']}, {'title': ['Battle of the Brave'], 'year': [' 2004']}, {'title': ['Silver City'], 'year': [' 2004']}, {'title': ['Late Night Shorts'], 'year': [' 2004']}, {'title': ['With It'], 'year': [' 2004']}, {'title': ['The Beautiful Country'], 'year': [' 2004']}, {'title': ['Virgin Territory'], 'year': [' 2003']}, {'title': ['To Kill a King'], 'year': [' 2003']}, {'title': ['Whatever We Do'], 'year': [' 2003']}, {'title': [\"Emmett's Mark\"], 'year': [' 2002']}, {'title': ['The Musketeer'], 'year': [' 2001']}, {'title': ['Invincible'], 'year': [' 2001']}, {'title': ['Planet of the Apes'], 'year': [' 2001']}, {'title': ['Lucky Numbers'], 'year': [' 2000']}, {'title': ['Vatel'], 'year': [' 2000']}, {'title': ['The Million Dollar Hotel'], 'year': [' 2000']}, {'title': ['The Legend of 1900'], 'year': [' 1998']}, {'title': ['Animals with the Tollkeeper'], 'year': [' 1998']}, {'title': ['Deceiver'], 'year': [' 1997']}, {'title': ['Hoodlum'], 'year': [' 1997']}, {'title': [\"Gridlock'd\"], 'year': [' 1997']}, {'title': ['Mocking the Cosmos'], 'year': [' 1996']}, {'title': ['No Way Home'], 'year': [' 1996']}, {'title': ['Everyone Says I Love You'], 'year': [' 1996']}, {'title': ['Four Rooms'], 'year': [' 1995']}, {'title': ['Rob Roy'], 'year': [' 1995']}, {'title': ['Little Odessa'], 'year': [' 1994']}, {'title': ['Captives'], 'year': [' 1994']}, {'title': ['Pulp Fiction'], 'year': [' 1994']}, {'title': ['Murder in the Heartland'], 'year': [' 1993']}, {'title': [], 'year': []}, {'title': [], 'year': []}, {'title': ['Heart of Darkness'], 'year': [' 1993']}, {'title': ['The Perfect Husband'], 'year': [' 1993']}, {'title': ['Bodies, Rest & Motion'], 'year': [' 1993']}, {'title': ['Reservoir Dogs: Deleted Scenes'], 'year': [' 1992']}, {'title': ['Screen Two'], 'year': [' 1992']}, {'title': [], 'year': []}, {'title': ['Backsliding'], 'year': [' 1992']}, {'title': ['Reservoir Dogs'], 'year': [' 1992']}, {'title': [\"Jumpin' at the Boneyard\"], 'year': [' 1991']}, {'title': ['Tales from the Crypt'], 'year': [' 1991']}, {'title': [], 'year': []}, {'title': ['Vincent and Theo'], 'year': [' 1990']}, {'title': [], 'year': []}, {'title': [], 'year': []}, {'title': [], 'year': []}, {'title': [], 'year': []}, {'title': ['Rosencrantz & Guildenstern Are Dead'], 'year': [' 1990']}, {'title': ['The Play on One'], 'year': [' 1990']}, {'title': [], 'year': []}, {'title': ['Farendj'], 'year': [' 1990']}, {'title': ['Vincent & Theo'], 'year': [' 1990']}, {'title': ['The Cook, the Thief, His Wife & Her Lover'], 'year': [' 1989']}, {'title': ['Theatre Night'], 'year': [' 1989']}, {'title': [], 'year': []}, {'title': [], 'year': []}, {'title': ['A Fine Romance'], 'year': [' 1989']}, {'title': [], 'year': []}, {'title': ['Twice Upon a Time'], 'year': [' 1988']}, {'title': ['Coppers'], 'year': [' 1988']}, {'title': ['To Kill A Priest'], 'year': [' 1988']}, {'title': ['A World Apart'], 'year': [' 1988']}, {'title': ['Ten Great Writers of the Modern World'], 'year': [' 1988']}, {'title': [], 'year': []}, {'title': ['King of the Ghetto'], 'year': [' 1986']}, {'title': [], 'year': []}, {'title': [], 'year': []}, {'title': [], 'year': []}, {'title': [], 'year': []}, {'title': ['Summer Season'], 'year': [' 1985']}, {'title': [], 'year': []}, {'title': ['TV Eye'], 'year': [' 1985']}, {'title': [], 'year': []}, {'title': ['Murder with Mirrors'], 'year': [' 1985']}, {'title': ['Return to Waterloo'], 'year': [' 1984']}, {'title': ['A Class of His Own'], 'year': [' 1984']}, {'title': ['The Hit'], 'year': [' 1984']}, {'title': ['Driving Ambition'], 'year': [' 1984']}, {'title': [], 'year': []}, {'title': ['Meantime'], 'year': [' 1983']}, {'title': ['Made in Britain'], 'year': [' 1982']}]} \n",
      "\n",
      "{'name': ['Laura Lovelace'], 'link': ['https://www.imdb.com/name/nm0522503/?ref_=ttfc_fc_cl_t3'], 'movies': [{'title': ['Jackie Brown'], 'year': [' 1997']}, {'title': ['Pulp Fiction'], 'year': [' 1994']}]} \n",
      "\n"
     ]
    }
   ],
   "source": [
    "\n",
    "import time\n",
    "class Scraper:\n",
    "#to access website\n",
    "    def __init__(self):\n",
    "        self.driver = webdriver.Chrome(ChromeDriverManager().install())\n",
    "        url = 'https://www.imdb.com/title/tt0110912/?ref_=nv_sr_srsg_0' \n",
    "        self.driver.get(url)\n",
    "        time.sleep(2)\n",
    "        \n",
    "\n",
    "# method to access data\n",
    "    def actor_page(self):\n",
    "        self.list_page = self.driver.find_element(\"xpath\", '//*[@id=\"__next\"]/main/div/section[1]/div/section/div/div[1]/section[4]/ul/li[3]')\n",
    "        self.list_page.click()\n",
    "\n",
    "# to get list of all_actors   \n",
    "        self.actors = self.driver.find_elements('xpath', '//*[@id=\"fullcredits_content\"]/table[3]/tbody')\n",
    "        for act in self.actors:\n",
    "            self.odd_actors = self.driver.find_elements(By.CLASS_NAME, 'odd')\n",
    "            self.even_actors = self.driver.find_elements(By.CLASS_NAME, 'even')\n",
    "        \n",
    "        all_actors = self.odd_actors + self.even_actors\n",
    "    \n",
    "# to get links of all actors page\n",
    "        links = []\n",
    "        condition = True\n",
    "        while condition:\n",
    "            for act in all_actors:\n",
    "                try:\n",
    "                    self.actors_name = act.find_elements(By.TAG_NAME, 'td')[1]\n",
    "                    self.li = self.actors_name.find_element(By.TAG_NAME, 'a')\n",
    "                    links.append(self.li.get_property('href'))\n",
    "                    \n",
    "                except:\n",
    "                    condition = False\n",
    "                 \n",
    "        #print(links)\n",
    "        \n",
    " \n",
    "        for i in links:\n",
    "            dict_properties =  {'name' : [], 'link' : [], 'movies' : []}\n",
    "            \n",
    "            try:\n",
    "                self.driver.get(i)\n",
    "                dict_properties['link'].append(i)\n",
    "            except:\n",
    "                dict_properties['link'].append('none')\n",
    "            try:\n",
    "                name = self.driver.find_element(\"xpath\", '//span[contains(@class, \"itemprop\")]').text\n",
    "                dict_properties['name'].append(name)\n",
    "            except NoSuchElementException: \n",
    "                dict_properties['name'].append('none')\n",
    "           \n",
    "            self.movie_list = self.driver.find_element(By.XPATH, '//div[@class=\"filmo-category-section\"]')\n",
    "            b_tag = self.movie_list.find_elements(By.TAG_NAME, 'div')\n",
    "\n",
    "            for b in b_tag:\n",
    "                try:\n",
    "                    box = {'title' : [], 'year' : []}\n",
    "                    \n",
    "                    # movie_year = b.find_element(By.XPATH, '//span[@class=\"year_column\"]').text\n",
    "                    movie_year = b.find_element(By.XPATH, './span').text\n",
    "                    # print(movie_year)\n",
    "                    \n",
    "                    film_ab = b.find_element(By.TAG_NAME, 'b')\n",
    "                    film_name =film_ab.find_element(By.XPATH, './a').text\n",
    "                    # print(film_name)\n",
    "                    \n",
    "                    box['year'].append(movie_year)\n",
    "                    box['title'].append(film_name)\n",
    "                    all.append(box)\n",
    "                    # dict_properties['movies'].append(box)\n",
    "                except:\n",
    "                    pass\n",
    "                    # box['year'].append('none')\n",
    "                    # box['title'].append('none')\n",
    "                   \n",
    "                dict_properties['movies'].append(box)\n",
    "            print(dict_properties, '\\n') \n",
    "               \n",
    "            \n",
    "\n",
    "\n",
    "sc = Scraper()\n",
    "sc.actor_page()"
   ]
  },
  {
   "cell_type": "markdown",
   "metadata": {},
   "source": []
  }
 ],
 "metadata": {
  "kernelspec": {
   "display_name": "Python 3.9.12 ('data-collecttion')",
   "language": "python",
   "name": "python3"
  },
  "language_info": {
   "codemirror_mode": {
    "name": "ipython",
    "version": 3
   },
   "file_extension": ".py",
   "mimetype": "text/x-python",
   "name": "python",
   "nbconvert_exporter": "python",
   "pygments_lexer": "ipython3",
   "version": "3.9.12"
  },
  "orig_nbformat": 4,
  "vscode": {
   "interpreter": {
    "hash": "3958a58734f48ff247e11a29acc2cd2bb4a2a0ef4f1e62e477dc9704ecfd589e"
   }
  }
 },
 "nbformat": 4,
 "nbformat_minor": 2
}
