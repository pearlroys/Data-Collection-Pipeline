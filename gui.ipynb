{
 "cells": [
  {
   "cell_type": "code",
   "execution_count": 3,
   "metadata": {},
   "outputs": [],
   "source": [
    "from tk import *\n",
    "import tkinter as tk\n",
    "from PIL import Image, ImageTk"
   ]
  },
  {
   "cell_type": "code",
   "execution_count": 4,
   "metadata": {},
   "outputs": [
    {
     "ename": "",
     "evalue": "",
     "output_type": "error",
     "traceback": [
      "\u001b[1;31mThe Kernel crashed while executing code in the the current cell or a previous cell. Please review the code in the cell(s) to identify a possible cause of the failure. Click <a href='https://aka.ms/vscodeJupyterKernelCrash'>here</a> for more info. View Jupyter <a href='command:jupyter.viewOutput'>log</a> for further details."
     ]
    }
   ],
   "source": [
    "window = tk.Tk()\n",
    "window.configure(background=\"firebrick2\")\n",
    "window.geometry(\"525x700\")\n",
    "window.title(\"POKEDEX v.0.1\")\n",
    "\n",
    "#Labels\n",
    "l1 = tk.Label(window, text=\"ENTER A NUMBER: 0-925\", width=25, bg=\"gray25\", fg=\"ghost white\", font=(\"Times\", 14))\n",
    "l2 = tk.Label(window, text=\"NAME\", width=25, bg=\"gray25\", fg=\"ghost white\", font=(\"Times\", 14))\n",
    "l3 = tk.Label(window, text=\"HP\", width=25, bg=\"gray25\", fg=\"ghost white\", font=(\"Times\", 14))\n",
    "l4 = tk.Label(window, text=\"ATTACK\", width=25, bg=\"gray25\", fg=\"ghost white\", font=(\"Times\", 14))\n",
    "l5 = tk.Label(window, text=\"DEFENSE\", width=25, bg=\"gray25\", fg=\"ghost white\", font=(\"Times\", 14))\n",
    "l6 = tk.Label(window, text=\"SPEED\", width=25, bg=\"gray25\", fg=\"ghost white\", font=(\"Times\", 14))\n",
    "l7 = tk.Label(window, text=\"TYPE\", width=25, bg=\"gray25\", fg=\"ghost white\", font=(\"Times\", 14))\n",
    "\n",
    "l1.grid(row=1, column=0, pady=15)\n",
    "l2.grid(row=2, column=0, pady=5)\n",
    "l3.grid(row=3, column=0, pady=5)\n",
    "l4.grid(row=4, column=0, pady=5)\n",
    "l5.grid(row=5, column=0, pady=5)\n",
    "l6.grid(row=6, column=0, pady=5)\n",
    "l7.grid(row=7, column=0, pady=5)\n"
   ]
  }
 ],
 "metadata": {
  "kernelspec": {
   "display_name": "Python 3.9.12 ('data-collecttion')",
   "language": "python",
   "name": "python3"
  },
  "language_info": {
   "codemirror_mode": {
    "name": "ipython",
    "version": 3
   },
   "file_extension": ".py",
   "mimetype": "text/x-python",
   "name": "python",
   "nbconvert_exporter": "python",
   "pygments_lexer": "ipython3",
   "version": "3.9.12"
  },
  "orig_nbformat": 4,
  "vscode": {
   "interpreter": {
    "hash": "3958a58734f48ff247e11a29acc2cd2bb4a2a0ef4f1e62e477dc9704ecfd589e"
   }
  }
 },
 "nbformat": 4,
 "nbformat_minor": 2
}
