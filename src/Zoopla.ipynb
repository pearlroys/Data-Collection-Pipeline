{
 "cells": [
  {
   "cell_type": "code",
   "execution_count": 4,
   "metadata": {},
   "outputs": [],
   "source": [
    "import selenium\n",
    "from selenium import webdriver\n",
    "from webdriver_manager.chrome import ChromeDriverManager\n",
    "from selenium.webdriver.common.by import By\n",
    "from selenium import webdriver\n",
    "from selenium.webdriver.support.ui import WebDriverWait\n",
    "from selenium.webdriver.support import expected_conditions as EC\n",
    "from selenium.webdriver.common.by import By\n",
    "from selenium.common.exceptions import WebDriverException, TimeoutException\n",
    "from tqdm import tqdm\n",
    "import time\n"
   ]
  },
  {
   "cell_type": "code",
   "execution_count": 8,
   "metadata": {},
   "outputs": [
    {
     "name": "stdout",
     "output_type": "stream",
     "text": [
      "\n"
     ]
    },
    {
     "name": "stderr",
     "output_type": "stream",
     "text": [
      "[WDM] - ====== WebDriver manager ======\n",
      "[WDM] - Current google-chrome version is 103.0.5060\n",
      "[WDM] - Get LATEST chromedriver version for 103.0.5060 google-chrome\n",
      "[WDM] - Driver [/Users/pearl/.wdm/drivers/chromedriver/mac64_m1/103.0.5060.53/chromedriver] found in cache\n",
      "/var/folders/k4/lsf7875j0pd9cxljb33jtqb40000gn/T/ipykernel_3004/2612837539.py:5: DeprecationWarning: executable_path has been deprecated, please pass in a Service object\n",
      "  self.driver = webdriver.Chrome(ChromeDriverManager().install())\n"
     ]
    },
    {
     "ename": "NoSuchElementException",
     "evalue": "Message: no such element: Unable to locate element: {\"method\":\"xpath\",\"selector\":\"//div[@class=\"css-1itfubx e1llytg50\"]\"}\n  (Session info: chrome=103.0.5060.114)\nStacktrace:\n0   chromedriver                        0x0000000100ab1d14 chromedriver + 3792148\n1   chromedriver                        0x0000000100a48828 chromedriver + 3360808\n2   chromedriver                        0x00000001007490b8 chromedriver + 217272\n3   chromedriver                        0x0000000100778e90 chromedriver + 413328\n4   chromedriver                        0x00000001007a1a60 chromedriver + 580192\n5   chromedriver                        0x000000010076e318 chromedriver + 369432\n6   chromedriver                        0x0000000100a871e8 chromedriver + 3617256\n7   chromedriver                        0x0000000100a8b678 chromedriver + 3634808\n8   chromedriver                        0x0000000100a8fc6c chromedriver + 3652716\n9   chromedriver                        0x0000000100a8c110 chromedriver + 3637520\n10  chromedriver                        0x0000000100a6a7ac chromedriver + 3499948\n11  chromedriver                        0x0000000100aa3bf0 chromedriver + 3734512\n12  chromedriver                        0x0000000100aa3d54 chromedriver + 3734868\n13  chromedriver                        0x0000000100ab8558 chromedriver + 3818840\n14  libsystem_pthread.dylib             0x000000018d5ec26c _pthread_start + 148\n15  libsystem_pthread.dylib             0x000000018d5e708c thread_start + 8\n",
     "output_type": "error",
     "traceback": [
      "\u001b[0;31m---------------------------------------------------------------------------\u001b[0m",
      "\u001b[0;31mNoSuchElementException\u001b[0m                    Traceback (most recent call last)",
      "\u001b[1;32m/Users/pearl/Data-Collection-Pipeline/Zoopla.ipynb Cell 2\u001b[0m in \u001b[0;36m<cell line: 82>\u001b[0;34m()\u001b[0m\n\u001b[1;32m     <a href='vscode-notebook-cell:/Users/pearl/Data-Collection-Pipeline/Zoopla.ipynb#ch0000001?line=78'>79</a>\u001b[0m bot \u001b[39m=\u001b[39m Scraper()\n\u001b[1;32m     <a href='vscode-notebook-cell:/Users/pearl/Data-Collection-Pipeline/Zoopla.ipynb#ch0000001?line=79'>80</a>\u001b[0m load \u001b[39m=\u001b[39m bot\u001b[39m.\u001b[39mload_and_accept_cookies()\n\u001b[0;32m---> <a href='vscode-notebook-cell:/Users/pearl/Data-Collection-Pipeline/Zoopla.ipynb#ch0000001?line=81'>82</a>\u001b[0m bot\u001b[39m.\u001b[39;49mget_data()\n",
      "\u001b[1;32m/Users/pearl/Data-Collection-Pipeline/Zoopla.ipynb Cell 2\u001b[0m in \u001b[0;36mScraper.get_data\u001b[0;34m(self)\u001b[0m\n\u001b[1;32m     <a href='vscode-notebook-cell:/Users/pearl/Data-Collection-Pipeline/Zoopla.ipynb#ch0000001?line=52'>53</a>\u001b[0m \u001b[39mdef\u001b[39;00m \u001b[39mget_data\u001b[39m(\u001b[39mself\u001b[39m):\n\u001b[0;32m---> <a href='vscode-notebook-cell:/Users/pearl/Data-Collection-Pipeline/Zoopla.ipynb#ch0000001?line=53'>54</a>\u001b[0m     \u001b[39mself\u001b[39;49m\u001b[39m.\u001b[39;49mnext_page()\n\u001b[1;32m     <a href='vscode-notebook-cell:/Users/pearl/Data-Collection-Pipeline/Zoopla.ipynb#ch0000001?line=54'>55</a>\u001b[0m     \u001b[39mfor\u001b[39;00m link \u001b[39min\u001b[39;00m \u001b[39mself\u001b[39m\u001b[39m.\u001b[39mbig_list:\n\u001b[1;32m     <a href='vscode-notebook-cell:/Users/pearl/Data-Collection-Pipeline/Zoopla.ipynb#ch0000001?line=55'>56</a>\u001b[0m         \u001b[39mtry\u001b[39;00m:\n",
      "\u001b[1;32m/Users/pearl/Data-Collection-Pipeline/Zoopla.ipynb Cell 2\u001b[0m in \u001b[0;36mScraper.next_page\u001b[0;34m(self)\u001b[0m\n\u001b[1;32m     <a href='vscode-notebook-cell:/Users/pearl/Data-Collection-Pipeline/Zoopla.ipynb#ch0000001?line=37'>38</a>\u001b[0m delay \u001b[39m=\u001b[39m \u001b[39m10\u001b[39m\n\u001b[1;32m     <a href='vscode-notebook-cell:/Users/pearl/Data-Collection-Pipeline/Zoopla.ipynb#ch0000001?line=38'>39</a>\u001b[0m \u001b[39mfor\u001b[39;00m i \u001b[39min\u001b[39;00m \u001b[39mrange\u001b[39m(\u001b[39m5\u001b[39m):\n\u001b[0;32m---> <a href='vscode-notebook-cell:/Users/pearl/Data-Collection-Pipeline/Zoopla.ipynb#ch0000001?line=39'>40</a>\u001b[0m     \u001b[39mself\u001b[39m\u001b[39m.\u001b[39mbig_list\u001b[39m.\u001b[39mextend(\u001b[39mself\u001b[39;49m\u001b[39m.\u001b[39;49mget_links())\n\u001b[1;32m     <a href='vscode-notebook-cell:/Users/pearl/Data-Collection-Pipeline/Zoopla.ipynb#ch0000001?line=40'>41</a>\u001b[0m     time\u001b[39m.\u001b[39msleep(\u001b[39m10\u001b[39m)\n\u001b[1;32m     <a href='vscode-notebook-cell:/Users/pearl/Data-Collection-Pipeline/Zoopla.ipynb#ch0000001?line=41'>42</a>\u001b[0m     page \u001b[39m=\u001b[39m \u001b[39mself\u001b[39m\u001b[39m.\u001b[39mdriver\u001b[39m.\u001b[39mfind_element(By\u001b[39m.\u001b[39mXPATH, \u001b[39m'\u001b[39m\u001b[39m//li[@class=\u001b[39m\u001b[39m\"\u001b[39m\u001b[39mcss-qhg1xn-PaginationItemPreviousAndNext-PaginationItemNext eaoxhri2\u001b[39m\u001b[39m\"\u001b[39m\u001b[39m]\u001b[39m\u001b[39m'\u001b[39m)\n",
      "\u001b[1;32m/Users/pearl/Data-Collection-Pipeline/Zoopla.ipynb Cell 2\u001b[0m in \u001b[0;36mScraper.get_links\u001b[0;34m(self)\u001b[0m\n\u001b[1;32m     <a href='vscode-notebook-cell:/Users/pearl/Data-Collection-Pipeline/Zoopla.ipynb#ch0000001?line=25'>26</a>\u001b[0m links \u001b[39m=\u001b[39m []\n\u001b[1;32m     <a href='vscode-notebook-cell:/Users/pearl/Data-Collection-Pipeline/Zoopla.ipynb#ch0000001?line=26'>27</a>\u001b[0m time\u001b[39m.\u001b[39msleep(\u001b[39m5\u001b[39m)\n\u001b[0;32m---> <a href='vscode-notebook-cell:/Users/pearl/Data-Collection-Pipeline/Zoopla.ipynb#ch0000001?line=27'>28</a>\u001b[0m link_list \u001b[39m=\u001b[39m \u001b[39mself\u001b[39;49m\u001b[39m.\u001b[39;49mdriver\u001b[39m.\u001b[39;49mfind_element(By\u001b[39m.\u001b[39;49mXPATH, \u001b[39m'\u001b[39;49m\u001b[39m//div[@class=\u001b[39;49m\u001b[39m\"\u001b[39;49m\u001b[39mcss-1itfubx e1llytg50\u001b[39;49m\u001b[39m\"\u001b[39;49m\u001b[39m]\u001b[39;49m\u001b[39m'\u001b[39;49m)\n\u001b[1;32m     <a href='vscode-notebook-cell:/Users/pearl/Data-Collection-Pipeline/Zoopla.ipynb#ch0000001?line=28'>29</a>\u001b[0m \u001b[39mlist\u001b[39m \u001b[39m=\u001b[39m link_list\u001b[39m.\u001b[39mfind_elements(By\u001b[39m.\u001b[39mXPATH, \u001b[39m'\u001b[39m\u001b[39m./div\u001b[39m\u001b[39m'\u001b[39m)\n\u001b[1;32m     <a href='vscode-notebook-cell:/Users/pearl/Data-Collection-Pipeline/Zoopla.ipynb#ch0000001?line=29'>30</a>\u001b[0m \u001b[39mfor\u001b[39;00m sites \u001b[39min\u001b[39;00m \u001b[39mlist\u001b[39m:\n",
      "File \u001b[0;32m/opt/homebrew/Caskroom/miniforge/base/envs/data-collecttion/lib/python3.9/site-packages/selenium/webdriver/remote/webdriver.py:857\u001b[0m, in \u001b[0;36mWebDriver.find_element\u001b[0;34m(self, by, value)\u001b[0m\n\u001b[1;32m    854\u001b[0m     by \u001b[39m=\u001b[39m By\u001b[39m.\u001b[39mCSS_SELECTOR\n\u001b[1;32m    855\u001b[0m     value \u001b[39m=\u001b[39m \u001b[39m'\u001b[39m\u001b[39m[name=\u001b[39m\u001b[39m\"\u001b[39m\u001b[39m%s\u001b[39;00m\u001b[39m\"\u001b[39m\u001b[39m]\u001b[39m\u001b[39m'\u001b[39m \u001b[39m%\u001b[39m value\n\u001b[0;32m--> 857\u001b[0m \u001b[39mreturn\u001b[39;00m \u001b[39mself\u001b[39;49m\u001b[39m.\u001b[39;49mexecute(Command\u001b[39m.\u001b[39;49mFIND_ELEMENT, {\n\u001b[1;32m    858\u001b[0m     \u001b[39m'\u001b[39;49m\u001b[39musing\u001b[39;49m\u001b[39m'\u001b[39;49m: by,\n\u001b[1;32m    859\u001b[0m     \u001b[39m'\u001b[39;49m\u001b[39mvalue\u001b[39;49m\u001b[39m'\u001b[39;49m: value})[\u001b[39m'\u001b[39m\u001b[39mvalue\u001b[39m\u001b[39m'\u001b[39m]\n",
      "File \u001b[0;32m/opt/homebrew/Caskroom/miniforge/base/envs/data-collecttion/lib/python3.9/site-packages/selenium/webdriver/remote/webdriver.py:435\u001b[0m, in \u001b[0;36mWebDriver.execute\u001b[0;34m(self, driver_command, params)\u001b[0m\n\u001b[1;32m    433\u001b[0m response \u001b[39m=\u001b[39m \u001b[39mself\u001b[39m\u001b[39m.\u001b[39mcommand_executor\u001b[39m.\u001b[39mexecute(driver_command, params)\n\u001b[1;32m    434\u001b[0m \u001b[39mif\u001b[39;00m response:\n\u001b[0;32m--> 435\u001b[0m     \u001b[39mself\u001b[39;49m\u001b[39m.\u001b[39;49merror_handler\u001b[39m.\u001b[39;49mcheck_response(response)\n\u001b[1;32m    436\u001b[0m     response[\u001b[39m'\u001b[39m\u001b[39mvalue\u001b[39m\u001b[39m'\u001b[39m] \u001b[39m=\u001b[39m \u001b[39mself\u001b[39m\u001b[39m.\u001b[39m_unwrap_value(\n\u001b[1;32m    437\u001b[0m         response\u001b[39m.\u001b[39mget(\u001b[39m'\u001b[39m\u001b[39mvalue\u001b[39m\u001b[39m'\u001b[39m, \u001b[39mNone\u001b[39;00m))\n\u001b[1;32m    438\u001b[0m     \u001b[39mreturn\u001b[39;00m response\n",
      "File \u001b[0;32m/opt/homebrew/Caskroom/miniforge/base/envs/data-collecttion/lib/python3.9/site-packages/selenium/webdriver/remote/errorhandler.py:247\u001b[0m, in \u001b[0;36mErrorHandler.check_response\u001b[0;34m(self, response)\u001b[0m\n\u001b[1;32m    245\u001b[0m         alert_text \u001b[39m=\u001b[39m value[\u001b[39m'\u001b[39m\u001b[39malert\u001b[39m\u001b[39m'\u001b[39m]\u001b[39m.\u001b[39mget(\u001b[39m'\u001b[39m\u001b[39mtext\u001b[39m\u001b[39m'\u001b[39m)\n\u001b[1;32m    246\u001b[0m     \u001b[39mraise\u001b[39;00m exception_class(message, screen, stacktrace, alert_text)  \u001b[39m# type: ignore[call-arg]  # mypy is not smart enough here\u001b[39;00m\n\u001b[0;32m--> 247\u001b[0m \u001b[39mraise\u001b[39;00m exception_class(message, screen, stacktrace)\n",
      "\u001b[0;31mNoSuchElementException\u001b[0m: Message: no such element: Unable to locate element: {\"method\":\"xpath\",\"selector\":\"//div[@class=\"css-1itfubx e1llytg50\"]\"}\n  (Session info: chrome=103.0.5060.114)\nStacktrace:\n0   chromedriver                        0x0000000100ab1d14 chromedriver + 3792148\n1   chromedriver                        0x0000000100a48828 chromedriver + 3360808\n2   chromedriver                        0x00000001007490b8 chromedriver + 217272\n3   chromedriver                        0x0000000100778e90 chromedriver + 413328\n4   chromedriver                        0x00000001007a1a60 chromedriver + 580192\n5   chromedriver                        0x000000010076e318 chromedriver + 369432\n6   chromedriver                        0x0000000100a871e8 chromedriver + 3617256\n7   chromedriver                        0x0000000100a8b678 chromedriver + 3634808\n8   chromedriver                        0x0000000100a8fc6c chromedriver + 3652716\n9   chromedriver                        0x0000000100a8c110 chromedriver + 3637520\n10  chromedriver                        0x0000000100a6a7ac chromedriver + 3499948\n11  chromedriver                        0x0000000100aa3bf0 chromedriver + 3734512\n12  chromedriver                        0x0000000100aa3d54 chromedriver + 3734868\n13  chromedriver                        0x0000000100ab8558 chromedriver + 3818840\n14  libsystem_pthread.dylib             0x000000018d5ec26c _pthread_start + 148\n15  libsystem_pthread.dylib             0x000000018d5e708c thread_start + 8\n"
     ]
    }
   ],
   "source": [
    "\n",
    "class Scraper:\n",
    "#to access website\n",
    "#initializing variables\n",
    "    def __init__(self):\n",
    "        self.driver = webdriver.Chrome(ChromeDriverManager().install())\n",
    "        url = \"https://www.zoopla.co.uk/new-homes/property/london/?q=London&results_sort=newest_listings&search_source=new-homes&page_size=25&pn=1&view_type=list\"\n",
    "        self.driver.get(url)\n",
    "        time.sleep(2)\n",
    "        self.delay = 10\n",
    "        self.big_list = []\n",
    "\n",
    "    #to click the cookies box\n",
    "    def load_and_accept_cookies(self):\n",
    "        try:\n",
    "            WebDriverWait(self.driver, self.delay).until(EC.presence_of_element_located((By.XPATH, '//*[@id=\"gdpr-consent-notice\"]')))\n",
    "            self.driver.switch_to.frame('gdpr-consent-notice')\n",
    "            accept_cookies_button = WebDriverWait(self.driver, self.delay).until(EC.presence_of_element_located((By.XPATH, '//*[@id=\"save\"]')))\n",
    "            accept_cookies_button.click()\n",
    "            time.sleep(1)\n",
    "        except TimeoutException:\n",
    "            print(\"Loading took too much time!\")\n",
    "        return self.driver\n",
    "        \n",
    "    #to get the links on each page\n",
    "    def get_links(self):\n",
    "        links = []\n",
    "        time.sleep(5)\n",
    "        link_list = self.driver.find_element(By.XPATH, '//div[@class=\"css-1itfubx e1llytg50\"]')\n",
    "        list = link_list.find_elements(By.XPATH, './div')\n",
    "        for sites in list:\n",
    "            link_tag = sites.find_element(By.TAG_NAME, 'a')\n",
    "            links.append(link_tag.get_property('href'))\n",
    "        print(f\"There are {len(links)} properties on this page\")\n",
    "        return links\n",
    "\n",
    "    #to click to go into the next page\n",
    "    def next_page(self):\n",
    "        delay = 10\n",
    "        for i in range(5):\n",
    "            self.big_list.extend(self.get_links())\n",
    "            time.sleep(10)\n",
    "            page = self.driver.find_element(By.XPATH, '//li[@class=\"css-qhg1xn-PaginationItemPreviousAndNext-PaginationItemNext eaoxhri2\"]')\n",
    "            page.click()\n",
    "            try:\n",
    "                WebDriverWait(self.driver, 3).until(EC.presence_of_element_located((By.XPATH, '//div[@class=\"css-1vc84cj-CancelButtonWrapper e13xjwxo5\"]/button'))).click()\n",
    "                print(\"Frame Ready!\")\n",
    "            except:\n",
    "                pass\n",
    "        print(f\"There are {len(self.big_list)} properties on this pages\")\n",
    "        return self.big_list\n",
    "\n",
    "    # to get data from each house and put into a dictionary\n",
    "    def get_data(self):\n",
    "        self.next_page()\n",
    "        for link in self.big_list:\n",
    "            try:\n",
    "                self.driver.get(link)\n",
    "            except:\n",
    "                print('link not found')\n",
    "                dict_properties = {'Price': [], 'Address': [], 'Bedrooms': [], 'Description': []}\n",
    "                price = self.driver.find_element(By.XPATH, '//div[@class=\"c-PJLV c-PJLV-igTumRt-css\"]/p').text\n",
    "                \n",
    "                dict_properties['Price'].append(price)\n",
    "                address = self.driver.find_element(By.XPATH, '//address[@data-testid=\"address-label\"]').text\n",
    "                # address\n",
    "                dict_properties['Address'].append(address)\n",
    "                bedrooms = self.driver.find_element(By.XPATH, '//div[@class=\"c-PJLV c-PJLV-ieHhfWi-css\"]').text\n",
    "                # bedrooms\n",
    "                dict_properties['Bedrooms'].append(bedrooms)\n",
    "                # descriptions\n",
    "                # div_tag = self.driver.find_element(By.XPATH, '//div[@class=\"css-14s800p e126pxpr3\"]/span')\n",
    "                # description = div_tag.text.replace(\"\\n\", \" \")\n",
    "\n",
    "                # dict_properties['Description'] = description\n",
    "                print(dict_properties)\n",
    "\n",
    "        self.driver.quit()\n",
    "\n",
    "bot = Scraper()\n",
    "load = bot.load_and_accept_cookies()\n",
    "\n",
    "bot.get_data()\n",
    "\n"
   ]
  }
 ],
 "metadata": {
  "kernelspec": {
   "display_name": "Python 3.9.12 ('data-collecttion')",
   "language": "python",
   "name": "python3"
  },
  "language_info": {
   "codemirror_mode": {
    "name": "ipython",
    "version": 3
   },
   "file_extension": ".py",
   "mimetype": "text/x-python",
   "name": "python",
   "nbconvert_exporter": "python",
   "pygments_lexer": "ipython3",
   "version": "3.9.12"
  },
  "orig_nbformat": 4,
  "vscode": {
   "interpreter": {
    "hash": "3958a58734f48ff247e11a29acc2cd2bb4a2a0ef4f1e62e477dc9704ecfd589e"
   }
  }
 },
 "nbformat": 4,
 "nbformat_minor": 2
}
