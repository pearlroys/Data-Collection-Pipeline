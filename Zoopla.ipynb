{
 "cells": [
  {
   "cell_type": "code",
   "execution_count": 41,
   "metadata": {},
   "outputs": [],
   "source": [
    "import selenium\n",
    "from selenium import webdriver\n",
    "from webdriver_manager.chrome import ChromeDriverManager\n",
    "from selenium.webdriver.common.by import By\n",
    "from selenium import webdriver\n",
    "from selenium.webdriver.support.ui import WebDriverWait\n",
    "from selenium.webdriver.support import expected_conditions as EC\n",
    "from selenium.webdriver.common.by import By\n",
    "from selenium.common.exceptions import WebDriverException, TimeoutException\n",
    "from tqdm import tqdm\n",
    "import time"
   ]
  },
  {
   "cell_type": "code",
   "execution_count": 43,
   "metadata": {},
   "outputs": [
    {
     "name": "stdout",
     "output_type": "stream",
     "text": [
      "\n"
     ]
    },
    {
     "name": "stderr",
     "output_type": "stream",
     "text": [
      "[WDM] - ====== WebDriver manager ======\n",
      "[WDM] - Current google-chrome version is 103.0.5060\n",
      "[WDM] - Get LATEST chromedriver version for 103.0.5060 google-chrome\n",
      "[WDM] - Driver [/Users/pearl/.wdm/drivers/chromedriver/mac64_m1/103.0.5060.53/chromedriver] found in cache\n",
      "/var/folders/k4/lsf7875j0pd9cxljb33jtqb40000gn/T/ipykernel_22898/3170854622.py:4: DeprecationWarning: executable_path has been deprecated, please pass in a Service object\n",
      "  self.driver = webdriver.Chrome(ChromeDriverManager().install())\n"
     ]
    },
    {
     "name": "stdout",
     "output_type": "stream",
     "text": [
      "There are 25 properties on this page\n",
      "Frame Ready!\n",
      "There are 25 properties on this page\n",
      "There are 25 properties on this page\n",
      "There are 25 properties on this page\n",
      "There are 25 properties on this page\n",
      "There are 125 properties on this pages\n"
     ]
    }
   ],
   "source": [
    "\n",
    "class Scraper:\n",
    "#to access website\n",
    "    def __init__(self):\n",
    "        self.driver = webdriver.Chrome(ChromeDriverManager().install())\n",
    "        url = \"https://www.zoopla.co.uk/new-homes/property/london/?q=London&results_sort=newest_listings&search_source=new-homes&page_size=25&pn=1&view_type=list\"\n",
    "        self.driver.get(url)\n",
    "        time.sleep(2)\n",
    "        self.delay = 10\n",
    "\n",
    "    def load_and_accept_cookies(self):\n",
    "        try:\n",
    "            WebDriverWait(self.driver, self.delay).until(EC.presence_of_element_located((By.XPATH, '//*[@id=\"gdpr-consent-notice\"]')))\n",
    "            # print(\"Frame Ready!\")\n",
    "            self.driver.switch_to.frame('gdpr-consent-notice')\n",
    "            accept_cookies_button = WebDriverWait(self.driver, self.delay).until(EC.presence_of_element_located((By.XPATH, '//*[@id=\"save\"]')))\n",
    "            # print(\"Accept Cookies Button Ready!\")\n",
    "            accept_cookies_button.click()\n",
    "            time.sleep(1)\n",
    "\n",
    "        except TimeoutException:\n",
    "            print(\"Loading took too much time!\")\n",
    "\n",
    "        return self.driver\n",
    "        \n",
    "    def get_links(self):\n",
    "        \n",
    "        # self.load_and_accept_cookies()\n",
    "        links = []\n",
    "        time.sleep(5)\n",
    "        link_list = self.driver.find_element(By.XPATH, '//div[@class=\"css-1itfubx er561h10\"]')\n",
    "        list = link_list.find_elements(By.XPATH, './div')\n",
    "        for sites in list:\n",
    "            link_tag = sites.find_element(By.TAG_NAME, 'a')\n",
    "            links.append(link_tag.get_property('href'))\n",
    "        print(f\"There are {len(links)} properties on this page\")\n",
    "        return links\n",
    "        \n",
    "\n",
    "    def next_page(self):\n",
    "        \n",
    "        big_list = []\n",
    "        delay = 10\n",
    "        for i in range(5):\n",
    "            \n",
    "            big_list.extend(self.get_links())\n",
    "            time.sleep(10)\n",
    "            page = self.driver.find_element(By.XPATH, '//li[@class=\"css-qhg1xn-PaginationItemPreviousAndNext-PaginationItemNext eaoxhri2\"]')\n",
    "            page.click()\n",
    "            try:\n",
    "                WebDriverWait(self.driver, 3).until(EC.presence_of_element_located((By.XPATH, '//div[@class=\"css-1vc84cj-CancelButtonWrapper e13xjwxo5\"]/button'))).click()\n",
    "                print(\"Frame Ready!\")\n",
    "            except:\n",
    "                pass\n",
    "        print(f\"There are {len(big_list)} properties on this pages\")\n",
    "\n",
    "   \n",
    "       \n",
    "\n",
    "sc = Scraper()\n",
    "load = sc.load_and_accept_cookies()\n",
    "# sc.get_links()\n",
    "sc.next_page()\n",
    "\n"
   ]
  }
 ],
 "metadata": {
  "kernelspec": {
   "display_name": "Python 3.9.12 ('data-collecttion')",
   "language": "python",
   "name": "python3"
  },
  "language_info": {
   "codemirror_mode": {
    "name": "ipython",
    "version": 3
   },
   "file_extension": ".py",
   "mimetype": "text/x-python",
   "name": "python",
   "nbconvert_exporter": "python",
   "pygments_lexer": "ipython3",
   "version": "3.9.12"
  },
  "orig_nbformat": 4,
  "vscode": {
   "interpreter": {
    "hash": "3958a58734f48ff247e11a29acc2cd2bb4a2a0ef4f1e62e477dc9704ecfd589e"
   }
  }
 },
 "nbformat": 4,
 "nbformat_minor": 2
}
