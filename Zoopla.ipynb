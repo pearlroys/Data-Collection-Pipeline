{
 "cells": [
  {
   "cell_type": "code",
   "execution_count": 41,
   "metadata": {},
   "outputs": [],
   "source": [
    "import selenium\n",
    "from selenium import webdriver\n",
    "from webdriver_manager.chrome import ChromeDriverManager\n",
    "from selenium.webdriver.common.by import By\n",
    "from selenium import webdriver\n",
    "from selenium.webdriver.support.ui import WebDriverWait\n",
    "from selenium.webdriver.support import expected_conditions as EC\n",
    "from selenium.webdriver.common.by import By\n",
    "from selenium.common.exceptions import WebDriverException, TimeoutException\n",
    "from tqdm import tqdm\n",
    "import time"
   ]
  },
  {
   "cell_type": "code",
   "execution_count": 40,
   "metadata": {},
   "outputs": [
    {
     "name": "stdout",
     "output_type": "stream",
     "text": [
      "\n"
     ]
    },
    {
     "name": "stderr",
     "output_type": "stream",
     "text": [
      "[WDM] - ====== WebDriver manager ======\n",
      "[WDM] - Current google-chrome version is 103.0.5060\n",
      "[WDM] - Get LATEST chromedriver version for 103.0.5060 google-chrome\n",
      "[WDM] - Driver [/Users/pearl/.wdm/drivers/chromedriver/mac64_m1/103.0.5060.53/chromedriver] found in cache\n",
      "/var/folders/k4/lsf7875j0pd9cxljb33jtqb40000gn/T/ipykernel_22898/1087684229.py:4: DeprecationWarning: executable_path has been deprecated, please pass in a Service object\n",
      "  self.driver = webdriver.Chrome(ChromeDriverManager().install())\n"
     ]
    },
    {
     "name": "stdout",
     "output_type": "stream",
     "text": [
      "There are 25 properties on this page\n",
      "Frame Ready!\n",
      "There are 25 properties on this page\n",
      "mail box not found\n",
      "There are 25 properties on this page\n",
      "mail box not found\n",
      "There are 25 properties on this page\n",
      "mail box not found\n",
      "There are 25 properties on this page\n"
     ]
    },
    {
     "ename": "KeyboardInterrupt",
     "evalue": "",
     "output_type": "error",
     "traceback": [
      "\u001b[0;31m---------------------------------------------------------------------------\u001b[0m",
      "\u001b[0;31mKeyboardInterrupt\u001b[0m                         Traceback (most recent call last)",
      "\u001b[1;32m/Users/pearl/Data-Collection-Pipeline/Zoopla.ipynb Cell 2'\u001b[0m in \u001b[0;36m<cell line: 92>\u001b[0;34m()\u001b[0m\n\u001b[1;32m     <a href='vscode-notebook-cell:/Users/pearl/Data-Collection-Pipeline/Zoopla.ipynb#ch0000001?line=89'>90</a>\u001b[0m load \u001b[39m=\u001b[39m sc\u001b[39m.\u001b[39mload_and_accept_cookies()\n\u001b[1;32m     <a href='vscode-notebook-cell:/Users/pearl/Data-Collection-Pipeline/Zoopla.ipynb#ch0000001?line=90'>91</a>\u001b[0m \u001b[39m# sc.get_links()\u001b[39;00m\n\u001b[0;32m---> <a href='vscode-notebook-cell:/Users/pearl/Data-Collection-Pipeline/Zoopla.ipynb#ch0000001?line=91'>92</a>\u001b[0m sc\u001b[39m.\u001b[39;49mnext_page()\n",
      "\u001b[1;32m/Users/pearl/Data-Collection-Pipeline/Zoopla.ipynb Cell 2'\u001b[0m in \u001b[0;36mScraper.next_page\u001b[0;34m(self)\u001b[0m\n\u001b[1;32m     <a href='vscode-notebook-cell:/Users/pearl/Data-Collection-Pipeline/Zoopla.ipynb#ch0000001?line=48'>49</a>\u001b[0m \u001b[39mfor\u001b[39;00m i \u001b[39min\u001b[39;00m \u001b[39mrange\u001b[39m(\u001b[39m5\u001b[39m):\n\u001b[1;32m     <a href='vscode-notebook-cell:/Users/pearl/Data-Collection-Pipeline/Zoopla.ipynb#ch0000001?line=49'>50</a>\u001b[0m     \u001b[39m# try:\u001b[39;00m\n\u001b[1;32m     <a href='vscode-notebook-cell:/Users/pearl/Data-Collection-Pipeline/Zoopla.ipynb#ch0000001?line=50'>51</a>\u001b[0m     big_list\u001b[39m.\u001b[39mextend(\u001b[39mself\u001b[39m\u001b[39m.\u001b[39mget_links())\n\u001b[0;32m---> <a href='vscode-notebook-cell:/Users/pearl/Data-Collection-Pipeline/Zoopla.ipynb#ch0000001?line=51'>52</a>\u001b[0m     time\u001b[39m.\u001b[39;49msleep(\u001b[39m10\u001b[39;49m)\n\u001b[1;32m     <a href='vscode-notebook-cell:/Users/pearl/Data-Collection-Pipeline/Zoopla.ipynb#ch0000001?line=52'>53</a>\u001b[0m     \u001b[39m# WebDriverWait(self.driver, delay).until(EC.alert_is_present())\u001b[39;00m\n\u001b[1;32m     <a href='vscode-notebook-cell:/Users/pearl/Data-Collection-Pipeline/Zoopla.ipynb#ch0000001?line=53'>54</a>\u001b[0m     \u001b[39m# self.driver.switch_to.alert.dismiss()\u001b[39;00m\n\u001b[1;32m     <a href='vscode-notebook-cell:/Users/pearl/Data-Collection-Pipeline/Zoopla.ipynb#ch0000001?line=56'>57</a>\u001b[0m     page \u001b[39m=\u001b[39m \u001b[39mself\u001b[39m\u001b[39m.\u001b[39mdriver\u001b[39m.\u001b[39mfind_element(By\u001b[39m.\u001b[39mXPATH, \u001b[39m'\u001b[39m\u001b[39m//li[@class=\u001b[39m\u001b[39m\"\u001b[39m\u001b[39mcss-qhg1xn-PaginationItemPreviousAndNext-PaginationItemNext eaoxhri2\u001b[39m\u001b[39m\"\u001b[39m\u001b[39m]\u001b[39m\u001b[39m'\u001b[39m)\n",
      "\u001b[0;31mKeyboardInterrupt\u001b[0m: "
     ]
    }
   ],
   "source": [
    "\n",
    "class Scraper:\n",
    "#to access website\n",
    "    def __init__(self):\n",
    "        self.driver = webdriver.Chrome(ChromeDriverManager().install())\n",
    "        url = \"https://www.zoopla.co.uk/new-homes/property/london/?q=London&results_sort=newest_listings&search_source=new-homes&page_size=25&pn=1&view_type=list\"\n",
    "        self.driver.get(url)\n",
    "        time.sleep(2)\n",
    "        self.delay = 10\n",
    "\n",
    "    def load_and_accept_cookies(self):\n",
    "        try:\n",
    "            WebDriverWait(self.driver, self.delay).until(EC.presence_of_element_located((By.XPATH, '//*[@id=\"gdpr-consent-notice\"]')))\n",
    "            # print(\"Frame Ready!\")\n",
    "            self.driver.switch_to.frame('gdpr-consent-notice')\n",
    "            accept_cookies_button = WebDriverWait(self.driver, self.delay).until(EC.presence_of_element_located((By.XPATH, '//*[@id=\"save\"]')))\n",
    "            # print(\"Accept Cookies Button Ready!\")\n",
    "            accept_cookies_button.click()\n",
    "            time.sleep(1)\n",
    "\n",
    "        except TimeoutException:\n",
    "            print(\"Loading took too much time!\")\n",
    "\n",
    "        return self.driver\n",
    "        \n",
    "    def get_links(self):\n",
    "        \n",
    "        # self.load_and_accept_cookies()\n",
    "        links = []\n",
    "        time.sleep(5)\n",
    "        link_list = self.driver.find_element(By.XPATH, '//div[@class=\"css-1itfubx er561h10\"]')\n",
    "        list = link_list.find_elements(By.XPATH, './div')\n",
    "        for sites in list:\n",
    "            link_tag = sites.find_element(By.TAG_NAME, 'a')\n",
    "            links.append(link_tag.get_property('href'))\n",
    "        print(f\"There are {len(links)} properties on this page\")\n",
    "        # print(links)\n",
    "        return links\n",
    "        # self.next_page()\n",
    "        \n",
    "        \n",
    "        #  self.next_page()\n",
    "\n",
    "    def next_page(self):\n",
    "        # self.get_links(load)\n",
    "        big_list = []\n",
    "        # condition = True\n",
    "        # while condition == True:\n",
    "        delay = 10\n",
    "        for i in range(5):\n",
    "            # try:\n",
    "            big_list.extend(self.get_links())\n",
    "            time.sleep(10)\n",
    "            # WebDriverWait(self.driver, delay).until(EC.alert_is_present())\n",
    "            # self.driver.switch_to.alert.dismiss()\n",
    "            \n",
    "\n",
    "            page = self.driver.find_element(By.XPATH, '//li[@class=\"css-qhg1xn-PaginationItemPreviousAndNext-PaginationItemNext eaoxhri2\"]')\n",
    "            page.click()\n",
    "            # self.driver.find_element(By.XPATH(\"//a[@class='bs-alert-close']\")).click()\n",
    "            # print(page.text)\n",
    "                # i += 1\n",
    "                # # time.sleep(3)\n",
    "            try:\n",
    "                WebDriverWait(self.driver, 3).until(EC.presence_of_element_located((By.XPATH, '//div[@class=\"css-1vc84cj-CancelButtonWrapper e13xjwxo5\"]/button'))).click()\n",
    "                print(\"Frame Ready!\")\n",
    "            except:\n",
    "                print('mail box not found')\n",
    "                # self.driver.switch_to.frame('__tcfapiLocator')\n",
    "                # cancel_button = WebDriverWait(self.driver, delay).until(EC.presence_of_element_located((By.XPATH, '//*[@class=\"css-e4jnh6-CancelButton e13xjwxo6\"]')))\n",
    "                # print(\"Accept Cookies Button Ready!\")\n",
    "                # cancel_button.click()\n",
    "                # WebDriverWait(self.driver, delay).until(EC.alert_is_present())\n",
    "                # self.driver.switch_to.alert.dismiss()\n",
    "            \n",
    "            # except TimeoutException:\n",
    "            #     print(\"Loading took too much time!\")\n",
    "\n",
    "            \n",
    "            # except:\n",
    "            #     condtion = False\n",
    "\n",
    "        print(f\"There are {len(big_list)} properties on this pages\")\n",
    "\n",
    "    # def scraping(self):\n",
    "        \n",
    "        # self.load_and_accept_cookies()\n",
    "       \n",
    "\n",
    "sc = Scraper()\n",
    "load = sc.load_and_accept_cookies()\n",
    "# sc.get_links()\n",
    "sc.next_page()\n",
    "\n"
   ]
  }
 ],
 "metadata": {
  "kernelspec": {
   "display_name": "Python 3.9.12 ('data-collecttion')",
   "language": "python",
   "name": "python3"
  },
  "language_info": {
   "codemirror_mode": {
    "name": "ipython",
    "version": 3
   },
   "file_extension": ".py",
   "mimetype": "text/x-python",
   "name": "python",
   "nbconvert_exporter": "python",
   "pygments_lexer": "ipython3",
   "version": "3.9.12"
  },
  "orig_nbformat": 4,
  "vscode": {
   "interpreter": {
    "hash": "3958a58734f48ff247e11a29acc2cd2bb4a2a0ef4f1e62e477dc9704ecfd589e"
   }
  }
 },
 "nbformat": 4,
 "nbformat_minor": 2
}
