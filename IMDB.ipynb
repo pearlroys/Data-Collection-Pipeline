{
 "cells": [
  {
   "cell_type": "code",
   "execution_count": 39,
   "metadata": {},
   "outputs": [],
   "source": [
    "import selenium\n",
    "from selenium import webdriver\n",
    "from webdriver_manager.chrome import ChromeDriverManager\n",
    "from selenium.webdriver.common.by import By\n",
    "from selenium import webdriver\n",
    "from selenium.webdriver.support.ui import WebDriverWait\n",
    "from selenium.webdriver.support import expected_conditions as EC\n",
    "from selenium.webdriver.common.by import By\n",
    "from selenium.common.exceptions import WebDriverException\n",
    "from tqdm import tqdm"
   ]
  },
  {
   "cell_type": "code",
   "execution_count": 55,
   "metadata": {},
   "outputs": [
    {
     "name": "stdout",
     "output_type": "stream",
     "text": [
      "\n"
     ]
    },
    {
     "name": "stderr",
     "output_type": "stream",
     "text": [
      "[WDM] - ====== WebDriver manager ======\n",
      "[WDM] - Current google-chrome version is 103.0.5060\n",
      "[WDM] - Get LATEST chromedriver version for 103.0.5060 google-chrome\n",
      "[WDM] - Driver [/Users/pearl/.wdm/drivers/chromedriver/mac64_m1/103.0.5060.53/chromedriver] found in cache\n",
      "/var/folders/k4/lsf7875j0pd9cxljb33jtqb40000gn/T/ipykernel_24907/1935932212.py:5: DeprecationWarning: executable_path has been deprecated, please pass in a Service object\n",
      "  self.driver = webdriver.Chrome(ChromeDriverManager().install())\n"
     ]
    },
    {
     "name": "stdout",
     "output_type": "stream",
     "text": [
      "Carl Abrahams\n"
     ]
    }
   ],
   "source": [
    "\n",
    "import time\n",
    "class Scraper:\n",
    "#to access website\n",
    "    def __init__(self):\n",
    "        self.driver = webdriver.Chrome(ChromeDriverManager().install())\n",
    "        url = 'https://www.imdb.com/title/tt0110912/?ref_=nv_sr_srsg_0' \n",
    "        self.driver.get(url)\n",
    "        time.sleep(2)\n",
    "        #self.dictionary{'name' : [], 'link' : [], 'movies' : [{'title' : [], 'year' : []}]}\n",
    "\n",
    "# method to access data\n",
    "    def actor_page(self):\n",
    "        self.list_page = self.driver.find_element(\"xpath\", '//*[@id=\"__next\"]/main/div/section[1]/div/section/div/div[1]/section[4]/ul/li[3]')\n",
    "        self.list_page.click()\n",
    "\n",
    "# to get list of all_actors   \n",
    "        self.actors = self.driver.find_elements('xpath', '//*[@id=\"fullcredits_content\"]/table[3]/tbody')\n",
    "        for act in self.actors:\n",
    "            self.odd_actors = self.driver.find_elements(By.CLASS_NAME, 'odd')\n",
    "            self.even_actors = self.driver.find_elements(By.CLASS_NAME, 'even')\n",
    "        \n",
    "        all_actors = self.odd_actors + self.even_actors\n",
    "    \n",
    "# to get links of all actors page\n",
    "        links = []\n",
    "        condition = True\n",
    "        while condition:\n",
    "            for act in all_actors:\n",
    "                try:\n",
    "                    self.actors_name = act.find_elements(By.TAG_NAME, 'td')[1]\n",
    "                    self.li = self.actors_name.find_element(By.TAG_NAME, 'a')\n",
    "                    links.append(self.li.get_property('href'))\n",
    "                    \n",
    "                except:\n",
    "                    condition = False\n",
    "                 \n",
    "        #print(links)\n",
    "        self.name = []\n",
    "        movie_year = []\n",
    "        film_name = []\n",
    " \n",
    "        for i in tqdm(links):\n",
    "            try:\n",
    "                self.driver.get(i)\n",
    "                self.name.append(self.driver.find_element(\"xpath\", '//span[contains(@class, \"itemprop\")]').text)\n",
    "                self.movie_list = self.driver.find_element(By.XPATH, '//div[@class=\"filmo-category-section\"]')\n",
    "            #print(self.movie.text)\n",
    "                # movie year\n",
    "                self.film_year = self.movie_list.find_elements(By.XPATH, \"//span[contains(@class, 'year_column')]\")\n",
    "                for year in self.film_year:\n",
    "                    movie_year.append(year.text)\n",
    "                # movie name\n",
    "                self.film_name = []\n",
    "                b_tag = self.movie_list.find_elements(By.TAG_NAME, 'b')\n",
    "                for b in b_tag:\n",
    "                    movie_name = b.find_element(By.XPATH, './a')\n",
    "                    film_name.append(movie_name.text)\n",
    "                            \n",
    "            except WebDriverException:\n",
    "                print(\"Not able to find element\")\n",
    "            \n",
    "            print(movie_year)\n",
    "          \n",
    "            \n",
    "        \n",
    "   \n",
    "# to get movies, movie year and film-actor's character name\n",
    "        self.actu = self.actors_links[0]\n",
    "        self.driver.get(self.actu)\n",
    "        self.name = self.driver.find_element(\"xpath\", '//*[@id=\"name-overview-widget-layout\"]/tbody/tr[1]/td/h1/span[1]').text\n",
    "#actor name\n",
    "        #print(self.name) \n",
    "        self.movie_list = self.driver.find_element(By.XPATH, '//div[@class=\"filmo-category-section\"]')\n",
    "        #print(self.movie.text)\n",
    "    \n",
    "        self.film_year = self.movie_list.find_elements(By.XPATH, \"//span[contains(@class, 'year_column')]\")\n",
    "        #print(self.film_list)\n",
    "        for year in self.film_year:\n",
    "            movie_year = year.text\n",
    "# movie name\n",
    "        self.film_name = []\n",
    "        b_tag = self.movie_list.find_elements(By.TAG_NAME, 'b')\n",
    "        for b in b_tag:\n",
    "            movie_name = b.find_element(By.XPATH, './a')\n",
    "            #print(movie_name.text)\n",
    "            \n",
    " # to get the individual character name of each role (To get all you would just have to insert into the fr loop), scaping <br> tags.      \n",
    "        # tim = links[0]\n",
    "        # self.driver.get(tim)\n",
    "        # self.movie_list = self.driver.find_element(By.XPATH, '//div[@class=\"filmo-category-section\"]')\n",
    "        # charcter = self.movie_list.find_element(By.XPATH, \"//div[@id='actor-tt1655444']\")\n",
    "        # #pose = charcter.find_element(By.XPATH, './b')\n",
    "        # rramp = charcter.text.split('\\n')\n",
    "        # print(rramp[2])\n",
    "                         \n",
    "                 \n",
    "       \n",
    "       \n",
    "        \n",
    "   \n",
    "\n",
    "sc = Scraper()\n",
    "sc.actor_page()"
   ]
  }
 ],
 "metadata": {
  "kernelspec": {
   "display_name": "Python 3.9.12 ('data-collecttion')",
   "language": "python",
   "name": "python3"
  },
  "language_info": {
   "codemirror_mode": {
    "name": "ipython",
    "version": 3
   },
   "file_extension": ".py",
   "mimetype": "text/x-python",
   "name": "python",
   "nbconvert_exporter": "python",
   "pygments_lexer": "ipython3",
   "version": "3.9.12"
  },
  "orig_nbformat": 4,
  "vscode": {
   "interpreter": {
    "hash": "3958a58734f48ff247e11a29acc2cd2bb4a2a0ef4f1e62e477dc9704ecfd589e"
   }
  }
 },
 "nbformat": 4,
 "nbformat_minor": 2
}
