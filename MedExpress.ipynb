{
 "cells": [
  {
   "cell_type": "code",
   "execution_count": 2,
   "metadata": {},
   "outputs": [],
   "source": [
    "import selenium\n",
    "from selenium import webdriver\n",
    "from webdriver_manager.chrome import ChromeDriverManager\n",
    "from selenium.webdriver.common.by import By\n",
    "from selenium import webdriver\n",
    "from selenium.webdriver.support.ui import WebDriverWait\n",
    "from selenium.webdriver.support import expected_conditions as EC\n",
    "from selenium.webdriver.common.by import By\n",
    "from selenium.common.exceptions import WebDriverException, TimeoutException\n",
    "from tqdm import tqdm\n",
    "import time"
   ]
  },
  {
   "cell_type": "code",
   "execution_count": 20,
   "metadata": {},
   "outputs": [
    {
     "name": "stdout",
     "output_type": "stream",
     "text": [
      "\n"
     ]
    },
    {
     "name": "stderr",
     "output_type": "stream",
     "text": [
      "[WDM] - ====== WebDriver manager ======\n",
      "[WDM] - Current google-chrome version is 103.0.5060\n",
      "[WDM] - Get LATEST chromedriver version for 103.0.5060 google-chrome\n",
      "[WDM] - Driver [/Users/pearl/.wdm/drivers/chromedriver/mac64_m1/103.0.5060.53/chromedriver] found in cache\n",
      "/var/folders/k4/lsf7875j0pd9cxljb33jtqb40000gn/T/ipykernel_20583/2478785623.py:4: DeprecationWarning: executable_path has been deprecated, please pass in a Service object\n",
      "  self.driver = webdriver.Chrome(ChromeDriverManager().install())\n"
     ]
    },
    {
     "name": "stdout",
     "output_type": "stream",
     "text": [
      "['https://www.medexpress.co.uk/clinics/erectile-dysfunction/viagra', 'https://www.medexpress.co.uk/clinics/erectile-dysfunction/viagra-connect', 'https://www.medexpress.co.uk/clinics/erectile-dysfunction/generic-sildenafil', 'https://www.medexpress.co.uk/clinics/erectile-dysfunction/cialis', 'https://www.medexpress.co.uk/clinics/erectile-dysfunction/generic-tadalafil', 'https://www.medexpress.co.uk/clinics/erectile-dysfunction/levitra', 'https://www.medexpress.co.uk/clinics/erectile-dysfunction/vardenafil', 'https://www.medexpress.co.uk/clinics/erectile-dysfunction/spedra', 'https://www.medexpress.co.uk/clinics/erectile-dysfunction/kamagra', 'https://www.medexpress.co.uk/clinics/erectile-dysfunction/vaxaid']\n"
     ]
    }
   ],
   "source": [
    "class Scraper:\n",
    "#to access website\n",
    "    def __init__(self):\n",
    "        self.driver = webdriver.Chrome(ChromeDriverManager().install())\n",
    "        url = \"https://www.medexpress.co.uk\"\n",
    "        self.driver.get(url)\n",
    "        time.sleep(2)\n",
    "        self.delay = 10\n",
    "       \n",
    "        txt =  self.driver.find_element('xpath', '//li[@id=\"treatment-dropdown\"]').click()\n",
    "        self.drug_panel = self.driver.find_element('xpath', '//div[@class=\"col-md-6 col-sm-12 column-menu\"]')\n",
    "\n",
    "    #acid-reflux\n",
    "    def acid(self):\n",
    "        acid_links = []\n",
    "        acid_reflux = self.driver.find_element('xpath', '//*[@id=\"treatment-dropdown\"]/ul/li/div/div/div/div[1]/div[1]/a[1]')\n",
    "        acid_container = acid_reflux.find_element('xpath', '//ul[@class=\"list-unstyled style-list\"]')\n",
    "        list = acid_container.find_elements('xpath', './li')\n",
    "        for sites in list:\n",
    "            link_tag = sites.find_element(By.TAG_NAME, 'a')\n",
    "            acid_links.append(link_tag.get_property('href'))\n",
    "        print(acid_links)\n",
    "\n",
    "\n",
    "    #Acne\n",
    "    def acne(self):\n",
    "        acne_links =[]\n",
    "        acne_container = self.drug_panel.find_element(By.XPATH, \"//body/div[@id='header']/div[@id='bs-navbar-collapse']/div[1]/div[1]/div[1]/nav[1]/ul[1]/li[3]/ul[1]/li[1]/div[1]/div[1]/div[1]/div[1]/div[1]/ul[2]\")\n",
    "        acne_list = acne_container.find_elements('xpath', './li')\n",
    "        for sites in acne_list:\n",
    "            link_tag = sites.find_element(By.TAG_NAME, 'a')\n",
    "            acne_links.append(link_tag.get_property('href'))\n",
    "        print(acne_links)\n",
    "\n",
    "\n",
    "    #erectile dysfunction\n",
    "    def erectile_dysfunction(self):\n",
    "        erectile_links =[]\n",
    "        erectile_container = self.drug_panel.find_element(By.XPATH, '//*[@id=\"treatment-dropdown\"]/ul/li/div/div/div/div[1]/div[2]/ul[2]')\n",
    "        erectile_list = erectile_container.find_elements('xpath', './li')\n",
    "        for sites in erectile_list:\n",
    "            link_tag = sites.find_element(By.TAG_NAME, 'a')\n",
    "            erectile_links.append(link_tag.get_property('href'))\n",
    "        \n",
    "        print(erectile_links)\n",
    "\n",
    "    def herpes(self):\n",
    "        pass\n",
    "\n",
    "\n",
    "bot = Scraper()\n",
    "# bot.acid()\n",
    "# bot.acne()\n",
    "bot.erectile_dysfunction()"
   ]
  }
 ],
 "metadata": {
  "kernelspec": {
   "display_name": "Python 3.9.12 ('data-collecttion')",
   "language": "python",
   "name": "python3"
  },
  "language_info": {
   "codemirror_mode": {
    "name": "ipython",
    "version": 3
   },
   "file_extension": ".py",
   "mimetype": "text/x-python",
   "name": "python",
   "nbconvert_exporter": "python",
   "pygments_lexer": "ipython3",
   "version": "3.9.12"
  },
  "orig_nbformat": 4,
  "vscode": {
   "interpreter": {
    "hash": "3958a58734f48ff247e11a29acc2cd2bb4a2a0ef4f1e62e477dc9704ecfd589e"
   }
  }
 },
 "nbformat": 4,
 "nbformat_minor": 2
}
