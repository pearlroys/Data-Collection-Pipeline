{
 "cells": [
  {
   "cell_type": "code",
   "execution_count": 2,
   "metadata": {},
   "outputs": [],
   "source": [
    "import selenium\n",
    "from selenium import webdriver\n",
    "from webdriver_manager.chrome import ChromeDriverManager\n",
    "from selenium.webdriver.common.by import By\n",
    "from selenium import webdriver\n",
    "from selenium.webdriver.support.ui import WebDriverWait\n",
    "from selenium.webdriver.support import expected_conditions as EC\n",
    "from selenium.webdriver.common.by import By\n",
    "from selenium.common.exceptions import WebDriverException, TimeoutException\n",
    "from tqdm import tqdm\n",
    "import time"
   ]
  },
  {
   "cell_type": "code",
   "execution_count": 61,
   "metadata": {},
   "outputs": [
    {
     "name": "stdout",
     "output_type": "stream",
     "text": [
      "\n"
     ]
    },
    {
     "name": "stderr",
     "output_type": "stream",
     "text": [
      "[WDM] - ====== WebDriver manager ======\n",
      "[WDM] - Current google-chrome version is 103.0.5060\n",
      "[WDM] - Get LATEST chromedriver version for 103.0.5060 google-chrome\n",
      "[WDM] - Driver [/Users/pearl/.wdm/drivers/chromedriver/mac64_m1/103.0.5060.53/chromedriver] found in cache\n",
      "/var/folders/k4/lsf7875j0pd9cxljb33jtqb40000gn/T/ipykernel_1141/3030464615.py:4: DeprecationWarning: executable_path has been deprecated, please pass in a Service object\n",
      "  self.driver = webdriver.Chrome(ChromeDriverManager().install())\n"
     ]
    },
    {
     "ename": "NoSuchElementException",
     "evalue": "Message: no such element: Unable to locate element: {\"method\":\"xpath\",\"selector\":\"//h2[@class=\"prod-accordion i-amphtml-accordion-header\"]\"}\n  (Session info: chrome=103.0.5060.114)\nStacktrace:\n0   chromedriver                        0x00000001011c9d14 chromedriver + 3792148\n1   chromedriver                        0x0000000101160828 chromedriver + 3360808\n2   chromedriver                        0x0000000100e610b8 chromedriver + 217272\n3   chromedriver                        0x0000000100e90e90 chromedriver + 413328\n4   chromedriver                        0x0000000100eb9a60 chromedriver + 580192\n5   chromedriver                        0x0000000100e86318 chromedriver + 369432\n6   chromedriver                        0x000000010119f1e8 chromedriver + 3617256\n7   chromedriver                        0x00000001011a3678 chromedriver + 3634808\n8   chromedriver                        0x00000001011a7c6c chromedriver + 3652716\n9   chromedriver                        0x00000001011a4110 chromedriver + 3637520\n10  chromedriver                        0x00000001011827ac chromedriver + 3499948\n11  chromedriver                        0x00000001011bbbf0 chromedriver + 3734512\n12  chromedriver                        0x00000001011bbd54 chromedriver + 3734868\n13  chromedriver                        0x00000001011d0558 chromedriver + 3818840\n14  libsystem_pthread.dylib             0x000000018d5ec26c _pthread_start + 148\n15  libsystem_pthread.dylib             0x000000018d5e708c thread_start + 8\n",
     "output_type": "error",
     "traceback": [
      "\u001b[0;31m---------------------------------------------------------------------------\u001b[0m",
      "\u001b[0;31mNoSuchElementException\u001b[0m                    Traceback (most recent call last)",
      "\u001b[1;32m/Users/pearl/Data-Collection-Pipeline/MedExpress.ipynb Cell 2\u001b[0m in \u001b[0;36m<cell line: 96>\u001b[0;34m()\u001b[0m\n\u001b[1;32m     <a href='vscode-notebook-cell:/Users/pearl/Data-Collection-Pipeline/MedExpress.ipynb#ch0000001?line=96'>97</a>\u001b[0m bot \u001b[39m=\u001b[39m Scraper()\n\u001b[1;32m     <a href='vscode-notebook-cell:/Users/pearl/Data-Collection-Pipeline/MedExpress.ipynb#ch0000001?line=97'>98</a>\u001b[0m \u001b[39m# bot.acid()\u001b[39;00m\n\u001b[1;32m     <a href='vscode-notebook-cell:/Users/pearl/Data-Collection-Pipeline/MedExpress.ipynb#ch0000001?line=98'>99</a>\u001b[0m \u001b[39m# bot.acne()\u001b[39;00m\n\u001b[0;32m--> <a href='vscode-notebook-cell:/Users/pearl/Data-Collection-Pipeline/MedExpress.ipynb#ch0000001?line=99'>100</a>\u001b[0m bot\u001b[39m.\u001b[39;49mget_metadata()\n",
      "\u001b[1;32m/Users/pearl/Data-Collection-Pipeline/MedExpress.ipynb Cell 2\u001b[0m in \u001b[0;36mScraper.get_metadata\u001b[0;34m(self)\u001b[0m\n\u001b[1;32m     <a href='vscode-notebook-cell:/Users/pearl/Data-Collection-Pipeline/MedExpress.ipynb#ch0000001?line=75'>76</a>\u001b[0m time\u001b[39m.\u001b[39msleep(\u001b[39m2\u001b[39m)\n\u001b[1;32m     <a href='vscode-notebook-cell:/Users/pearl/Data-Collection-Pipeline/MedExpress.ipynb#ch0000001?line=76'>77</a>\u001b[0m \u001b[39m# drug_name = self.driver.find_element(By.XPATH, '//div[@class=\"col-sm-7 product-row-title\"]/h1').text\u001b[39;00m\n\u001b[1;32m     <a href='vscode-notebook-cell:/Users/pearl/Data-Collection-Pipeline/MedExpress.ipynb#ch0000001?line=77'>78</a>\u001b[0m \u001b[39m# doses = self.driver.find_element(By.XPATH, '//ul[@class=\"nav nav-tabs strengthMenuTab\"]')\u001b[39;00m\n\u001b[1;32m     <a href='vscode-notebook-cell:/Users/pearl/Data-Collection-Pipeline/MedExpress.ipynb#ch0000001?line=78'>79</a>\u001b[0m \u001b[39m# doze = doses.find_elements(By.XPATH, '//span[@class=\"tab-dosage\"]')\u001b[39;00m\n\u001b[0;32m   (...)\u001b[0m\n\u001b[1;32m     <a href='vscode-notebook-cell:/Users/pearl/Data-Collection-Pipeline/MedExpress.ipynb#ch0000001?line=87'>88</a>\u001b[0m \u001b[39m# print(price.text)\u001b[39;00m\n\u001b[1;32m     <a href='vscode-notebook-cell:/Users/pearl/Data-Collection-Pipeline/MedExpress.ipynb#ch0000001?line=88'>89</a>\u001b[0m \u001b[39m# reviews = self.driver.find_element(By.XPATH, '//div[@class=\"feefo-rating-big\"]/span').text\u001b[39;00m\n\u001b[0;32m---> <a href='vscode-notebook-cell:/Users/pearl/Data-Collection-Pipeline/MedExpress.ipynb#ch0000001?line=89'>90</a>\u001b[0m drug_inf\u001b[39m=\u001b[39m \u001b[39mself\u001b[39;49m\u001b[39m.\u001b[39;49mdriver\u001b[39m.\u001b[39;49mfind_element(By\u001b[39m.\u001b[39;49mXPATH, \u001b[39m'\u001b[39;49m\u001b[39m//h2[@class=\u001b[39;49m\u001b[39m\"\u001b[39;49m\u001b[39mprod-accordion i-amphtml-accordion-header\u001b[39;49m\u001b[39m\"\u001b[39;49m\u001b[39m]\u001b[39;49m\u001b[39m'\u001b[39;49m)\u001b[39m.\u001b[39mclick()\n\u001b[1;32m     <a href='vscode-notebook-cell:/Users/pearl/Data-Collection-Pipeline/MedExpress.ipynb#ch0000001?line=91'>92</a>\u001b[0m drug_info \u001b[39m=\u001b[39m \u001b[39mself\u001b[39m\u001b[39m.\u001b[39mdriver\u001b[39m.\u001b[39mfind_element(By\u001b[39m.\u001b[39mXPATH, \u001b[39m'\u001b[39m\u001b[39m//div[@class=\u001b[39m\u001b[39m\"\u001b[39m\u001b[39mtab-pane i-amphtml-accordion-content\u001b[39m\u001b[39m\"\u001b[39m\u001b[39m]\u001b[39m\u001b[39m'\u001b[39m)\n\u001b[1;32m     <a href='vscode-notebook-cell:/Users/pearl/Data-Collection-Pipeline/MedExpress.ipynb#ch0000001?line=92'>93</a>\u001b[0m drun \u001b[39m=\u001b[39m drug_info\u001b[39m.\u001b[39mfind_elements(By\u001b[39m.\u001b[39mTAG_NAME, \u001b[39m'\u001b[39m\u001b[39mp\u001b[39m\u001b[39m'\u001b[39m)\n",
      "File \u001b[0;32m/opt/homebrew/Caskroom/miniforge/base/envs/data-collecttion/lib/python3.9/site-packages/selenium/webdriver/remote/webdriver.py:857\u001b[0m, in \u001b[0;36mWebDriver.find_element\u001b[0;34m(self, by, value)\u001b[0m\n\u001b[1;32m    854\u001b[0m     by \u001b[39m=\u001b[39m By\u001b[39m.\u001b[39mCSS_SELECTOR\n\u001b[1;32m    855\u001b[0m     value \u001b[39m=\u001b[39m \u001b[39m'\u001b[39m\u001b[39m[name=\u001b[39m\u001b[39m\"\u001b[39m\u001b[39m%s\u001b[39;00m\u001b[39m\"\u001b[39m\u001b[39m]\u001b[39m\u001b[39m'\u001b[39m \u001b[39m%\u001b[39m value\n\u001b[0;32m--> 857\u001b[0m \u001b[39mreturn\u001b[39;00m \u001b[39mself\u001b[39;49m\u001b[39m.\u001b[39;49mexecute(Command\u001b[39m.\u001b[39;49mFIND_ELEMENT, {\n\u001b[1;32m    858\u001b[0m     \u001b[39m'\u001b[39;49m\u001b[39musing\u001b[39;49m\u001b[39m'\u001b[39;49m: by,\n\u001b[1;32m    859\u001b[0m     \u001b[39m'\u001b[39;49m\u001b[39mvalue\u001b[39;49m\u001b[39m'\u001b[39;49m: value})[\u001b[39m'\u001b[39m\u001b[39mvalue\u001b[39m\u001b[39m'\u001b[39m]\n",
      "File \u001b[0;32m/opt/homebrew/Caskroom/miniforge/base/envs/data-collecttion/lib/python3.9/site-packages/selenium/webdriver/remote/webdriver.py:435\u001b[0m, in \u001b[0;36mWebDriver.execute\u001b[0;34m(self, driver_command, params)\u001b[0m\n\u001b[1;32m    433\u001b[0m response \u001b[39m=\u001b[39m \u001b[39mself\u001b[39m\u001b[39m.\u001b[39mcommand_executor\u001b[39m.\u001b[39mexecute(driver_command, params)\n\u001b[1;32m    434\u001b[0m \u001b[39mif\u001b[39;00m response:\n\u001b[0;32m--> 435\u001b[0m     \u001b[39mself\u001b[39;49m\u001b[39m.\u001b[39;49merror_handler\u001b[39m.\u001b[39;49mcheck_response(response)\n\u001b[1;32m    436\u001b[0m     response[\u001b[39m'\u001b[39m\u001b[39mvalue\u001b[39m\u001b[39m'\u001b[39m] \u001b[39m=\u001b[39m \u001b[39mself\u001b[39m\u001b[39m.\u001b[39m_unwrap_value(\n\u001b[1;32m    437\u001b[0m         response\u001b[39m.\u001b[39mget(\u001b[39m'\u001b[39m\u001b[39mvalue\u001b[39m\u001b[39m'\u001b[39m, \u001b[39mNone\u001b[39;00m))\n\u001b[1;32m    438\u001b[0m     \u001b[39mreturn\u001b[39;00m response\n",
      "File \u001b[0;32m/opt/homebrew/Caskroom/miniforge/base/envs/data-collecttion/lib/python3.9/site-packages/selenium/webdriver/remote/errorhandler.py:247\u001b[0m, in \u001b[0;36mErrorHandler.check_response\u001b[0;34m(self, response)\u001b[0m\n\u001b[1;32m    245\u001b[0m         alert_text \u001b[39m=\u001b[39m value[\u001b[39m'\u001b[39m\u001b[39malert\u001b[39m\u001b[39m'\u001b[39m]\u001b[39m.\u001b[39mget(\u001b[39m'\u001b[39m\u001b[39mtext\u001b[39m\u001b[39m'\u001b[39m)\n\u001b[1;32m    246\u001b[0m     \u001b[39mraise\u001b[39;00m exception_class(message, screen, stacktrace, alert_text)  \u001b[39m# type: ignore[call-arg]  # mypy is not smart enough here\u001b[39;00m\n\u001b[0;32m--> 247\u001b[0m \u001b[39mraise\u001b[39;00m exception_class(message, screen, stacktrace)\n",
      "\u001b[0;31mNoSuchElementException\u001b[0m: Message: no such element: Unable to locate element: {\"method\":\"xpath\",\"selector\":\"//h2[@class=\"prod-accordion i-amphtml-accordion-header\"]\"}\n  (Session info: chrome=103.0.5060.114)\nStacktrace:\n0   chromedriver                        0x00000001011c9d14 chromedriver + 3792148\n1   chromedriver                        0x0000000101160828 chromedriver + 3360808\n2   chromedriver                        0x0000000100e610b8 chromedriver + 217272\n3   chromedriver                        0x0000000100e90e90 chromedriver + 413328\n4   chromedriver                        0x0000000100eb9a60 chromedriver + 580192\n5   chromedriver                        0x0000000100e86318 chromedriver + 369432\n6   chromedriver                        0x000000010119f1e8 chromedriver + 3617256\n7   chromedriver                        0x00000001011a3678 chromedriver + 3634808\n8   chromedriver                        0x00000001011a7c6c chromedriver + 3652716\n9   chromedriver                        0x00000001011a4110 chromedriver + 3637520\n10  chromedriver                        0x00000001011827ac chromedriver + 3499948\n11  chromedriver                        0x00000001011bbbf0 chromedriver + 3734512\n12  chromedriver                        0x00000001011bbd54 chromedriver + 3734868\n13  chromedriver                        0x00000001011d0558 chromedriver + 3818840\n14  libsystem_pthread.dylib             0x000000018d5ec26c _pthread_start + 148\n15  libsystem_pthread.dylib             0x000000018d5e708c thread_start + 8\n"
     ]
    }
   ],
   "source": [
    "class Scraper:\n",
    "#to access website\n",
    "    def __init__(self):\n",
    "        self.driver = webdriver.Chrome(ChromeDriverManager().install())\n",
    "        url = \"https://www.medexpress.co.uk\"\n",
    "        self.driver.get(url)\n",
    "        time.sleep(2)\n",
    "        self.delay = 10\n",
    "        # txt =  self.driver.find_element('xpath', '//li[@id=\"treatment-dropdown\"]').click()\n",
    "        # self.drug_panel = self.driver.find_element('xpath', '//div[@class=\"col-md-6 col-sm-12 column-menu\"]')\n",
    "\n",
    "\n",
    "    def get_drug_class(self): \n",
    "    \n",
    "        \"\"\"\n",
    "        This method gets the drug class to be scraped.\n",
    "\n",
    "        \"\"\"\n",
    "        self.class_choice = input(\"Enter drug class: \")\n",
    "        return self.class_choice\n",
    "\n",
    "    def get_class_links(self):\n",
    "\n",
    "\n",
    "        \"\"\" This methods returns the link of the desired class.\n",
    "\n",
    "        Returns\n",
    "        --------\n",
    "        str\n",
    "            a string with the url of the class of drugs\n",
    "        \"\"\"\n",
    "        #get user choice\n",
    "        self.get_drug_class()\n",
    "        # get drug class container\n",
    "        class_container = self.driver.find_element(By.XPATH, '//div[@class=\"row margintop20\"]')\n",
    "        class_a_tag = class_container.find_elements(By.TAG_NAME, 'a')\n",
    "        most_pop_class_tags = class_a_tag[0:8]\n",
    "        drug_classes = [item.get_attribute('href') for item in most_pop_class_tags]\n",
    "        # print(drug_classes)\n",
    "        \n",
    "        class_dictionary = {0 :'erectile dysfuction', 1 : 'covid', 2 : 'migraine', 3 : 'period delay', 4 : 'asthma', 5 : 'herpes', 6 : 'acne', 7 : 'hair loss'}\n",
    "\n",
    "        for key, value in class_dictionary.items():\n",
    "            # if class is given\n",
    "            if value == self.class_choice.lower():\n",
    "                drug_class = drug_classes[key]\n",
    "                return drug_class\n",
    "    \n",
    "    def get_drug_links(self):\n",
    "        \"\"\"\n",
    "        This method gets the links of all drugs in each class and the names of the drugs in the list.\n",
    "\n",
    "        Returns\n",
    "        --------\n",
    "        lists\n",
    "            list containing the name of drugs in the class\n",
    "            list containing hyperlinks to all drugs in the class\n",
    "        \"\"\"\n",
    "\n",
    "        drug_class = self.get_class_links()\n",
    "        # access class link\n",
    "        self.driver.get(drug_class)\n",
    "        time.sleep(2)\n",
    "        # access drug list and links on class page \n",
    "        drug_links_container = self.driver.find_element(By.XPATH, '//div[@class=\"panel-treatment-row\"]')\n",
    "        link_tag = drug_links_container.find_elements(By.TAG_NAME, 'a')\n",
    "        drugs_links = [item.get_attribute('href') for item in link_tag]\n",
    "        drugs_list = [name.split('/')[-1] for name in drugs_links]\n",
    "        return (drugs_links)\n",
    "\n",
    "    def get_metadata(self):\n",
    "      \n",
    "        drug_links = self.get_drug_links()\n",
    "        for i in drug_links:\n",
    "            self.driver.get(i)\n",
    "            time.sleep(2)\n",
    "            # drug_name = self.driver.find_element(By.XPATH, '//div[@class=\"col-sm-7 product-row-title\"]/h1').text\n",
    "            # doses = self.driver.find_element(By.XPATH, '//ul[@class=\"nav nav-tabs strengthMenuTab\"]')\n",
    "            # doze = doses.find_elements(By.XPATH, '//span[@class=\"tab-dosage\"]')\n",
    "            # dosages = [items.text for items in doze]\n",
    "            # print(dosages[0:3])\n",
    "            # quant = self.driver.find_element(By.XPATH, '//span[@class=\"select-container select-container-product\"]')\n",
    "            # quanti = quant.find_elements(By.XPATH, '//select[@class=\"quantityMenu\"]/option')\n",
    "            # quantity = [q.text for q in quanti]\n",
    "            # print(quantity)\n",
    "            # pri = self.driver.find_element(By.XPATH, '//div[@class=\"sitewide-sale-price-wrapper\"]')\n",
    "            # price = pri.find_element(By.TAG_NAME, 'span')\n",
    "            # print(price.text)\n",
    "            # reviews = self.driver.find_element(By.XPATH, '//div[@class=\"feefo-rating-big\"]/span').text\n",
    "            drug_inf= self.driver.find_element(By.XPATH, '//h2[@class=\"prod-accordion i-amphtml-accordion-header\"]').click()\n",
    "            \n",
    "            drug_info = self.driver.find_element(By.XPATH, '//div[@class=\"tab-pane i-amphtml-accordion-content\"]')\n",
    "            # drun = drug_info.find_elements(By.TAG_NAME, 'p')\n",
    "            # drug_infoo = [drug.text for drug in drun]\n",
    "            print(drug_infoo)\n",
    "if __name__ == \"__main__\":\n",
    "    bot = Scraper()\n",
    "    # bot.acid()\n",
    "    # bot.acne()\n",
    "    bot.get_metadata()"
   ]
  },
  {
   "cell_type": "markdown",
   "metadata": {},
   "source": [
    "# A method that gets all the categories\n",
    "# Another method that takes the link form any of those cat as argument and returns a list of drugs in that cat\n",
    "# A method that gets data on eahc individual drug."
   ]
  }
 ],
 "metadata": {
  "kernelspec": {
   "display_name": "Python 3.9.12 ('data-collecttion')",
   "language": "python",
   "name": "python3"
  },
  "language_info": {
   "codemirror_mode": {
    "name": "ipython",
    "version": 3
   },
   "file_extension": ".py",
   "mimetype": "text/x-python",
   "name": "python",
   "nbconvert_exporter": "python",
   "pygments_lexer": "ipython3",
   "version": "3.9.12"
  },
  "orig_nbformat": 4,
  "vscode": {
   "interpreter": {
    "hash": "3958a58734f48ff247e11a29acc2cd2bb4a2a0ef4f1e62e477dc9704ecfd589e"
   }
  }
 },
 "nbformat": 4,
 "nbformat_minor": 2
}
